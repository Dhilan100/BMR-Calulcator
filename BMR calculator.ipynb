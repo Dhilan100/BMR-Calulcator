{
 "cells": [
  {
   "cell_type": "code",
   "execution_count": 1,
   "id": "06411831-d981-424e-af9e-9673c41c4819",
   "metadata": {},
   "outputs": [
    {
     "name": "stdout",
     "output_type": "stream",
     "text": [
      "This calculator works out your BMR:\n",
      "Please type an age between 15 and 18\n"
     ]
    }
   ],
   "source": [
    "#Creating a BMR Calculator using Mifflin-St Jeor Equation from Calculator.net\n",
    "\n",
    "print(\"This calculator works out your BMR:\")\n",
    "a = input(\"Please enter your age: \")\n",
    "\n",
    "if not a.isdigit() or float(a)<15 or float(a) >80:\n",
    "    print(\"Please type an age between 15 and 18\")\n",
    "else:\n",
    "    a = int(a)\n",
    "    h = input(\"Please enter your height (cm): \")\n",
    "    if not h.isdigit() or float(h) <= 20:\n",
    "        print(\"Please enter a value above 20\")\n",
    "    else:\n",
    "        h = float(h)\n",
    "        w = input(\"Please enter your weight (kg): \")\n",
    "        if not w.isdigit() or float(w) <= 2:\n",
    "            print(\"Please enter a value above 2\")\n",
    "        else:\n",
    "            w = float(w)\n",
    "            g = input(\"Please enter gender (m of f): \")\n",
    "            g = str(g)\n",
    "            if g == \"m\":\n",
    "                bmr = (10 * w) + (6.25 * h) - (5 * a) + 5\n",
    "                print (\"Your Basal Metabolic Rate is\", int(round(bmr)), \"calories/day\")\n",
    "            elif g == \"f\":\n",
    "                bmr = (10 * w) + (6.25 * h) - (5 * a) - 161\n",
    "                print(\"Your Basal Metabolic Rate is\", int(round(bmr)), \"calories/day\")\n",
    "            else:\n",
    "                print(\"Please type m for male or f for female and try again!\")\n",
    "\n"
   ]
  },
  {
   "cell_type": "code",
   "execution_count": null,
   "id": "ccd0eae6-3f82-4bf1-b56f-efc2b422d4ad",
   "metadata": {},
   "outputs": [],
   "source": []
  },
  {
   "cell_type": "code",
   "execution_count": null,
   "id": "d31792c3-1e2a-4e2e-9bdc-5f772d146694",
   "metadata": {},
   "outputs": [],
   "source": []
  }
 ],
 "metadata": {
  "kernelspec": {
   "display_name": "Python 3 (ipykernel)",
   "language": "python",
   "name": "python3"
  },
  "language_info": {
   "codemirror_mode": {
    "name": "ipython",
    "version": 3
   },
   "file_extension": ".py",
   "mimetype": "text/x-python",
   "name": "python",
   "nbconvert_exporter": "python",
   "pygments_lexer": "ipython3",
   "version": "3.11.7"
  }
 },
 "nbformat": 4,
 "nbformat_minor": 5
}
